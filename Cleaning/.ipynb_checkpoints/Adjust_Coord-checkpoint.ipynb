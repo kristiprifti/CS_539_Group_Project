{
 "cells": [
  {
   "cell_type": "code",
   "execution_count": 12,
   "id": "0964a62f-7d8a-4f0e-bc4e-1abc2e9fbde2",
   "metadata": {
    "tags": []
   },
   "outputs": [],
   "source": [
    "import pandas as pd"
   ]
  },
  {
   "cell_type": "code",
   "execution_count": 13,
   "id": "e0899ef3-4632-42b3-bd0c-57b37ff38c22",
   "metadata": {
    "tags": []
   },
   "outputs": [],
   "source": [
    "df = pd.read_csv('../assets/websiteDF.csv')"
   ]
  },
  {
   "cell_type": "code",
   "execution_count": 14,
   "id": "58b4a593-17c4-43d4-8412-b7e94cc400a9",
   "metadata": {
    "tags": []
   },
   "outputs": [],
   "source": [
    "coord_str = str((37.3854949, -121.9954211))"
   ]
  },
  {
   "cell_type": "code",
   "execution_count": 15,
   "id": "e7ed3e14-6af8-4f52-8b9c-21105c2e596c",
   "metadata": {
    "tags": []
   },
   "outputs": [
    {
     "data": {
      "text/plain": [
       "False"
      ]
     },
     "execution_count": 15,
     "metadata": {},
     "output_type": "execute_result"
    }
   ],
   "source": [
    "coord_exists = coord_str in df['coord'].values\n",
    "\n",
    "coord_exists"
   ]
  },
  {
   "cell_type": "code",
   "execution_count": 16,
   "id": "013c15a2-25c5-457e-b444-aff4528fc29f",
   "metadata": {
    "tags": []
   },
   "outputs": [
    {
     "data": {
      "text/plain": [
       "array(['(25.7902955, -80.13207740000001)', '(25.8099996, -80.1890981)',\n",
       "       '(28.3335081, -81.51373840000001)',\n",
       "       '(28.399986300000002, -81.4051029)',\n",
       "       '(28.423814399999998, -81.46124209999999)',\n",
       "       '(28.450386600000005, -81.4714142)', '(28.6553497, -81.3426916)',\n",
       "       '(29.676266899999998, -98.6345801)', '(30.3291349, -97.6606295)',\n",
       "       '(30.460717600000002, -97.7928744)', '(32.7445961, -96.8122859)',\n",
       "       '(32.7976607, -117.24946969999999)',\n",
       "       '(32.820654100000006, -117.1780115)',\n",
       "       '(32.9580411, -97.30765179999999)',\n",
       "       '(33.0093179, -97.22292540000001)',\n",
       "       '(33.931261299999996, -118.2829548)',\n",
       "       '(34.012219200000004, -118.4945396)',\n",
       "       '(34.035269899999996, -118.2382063)', '(34.0565932, -118.4259996)',\n",
       "       '(34.1525074, -118.36790359999999)', '(36.0902437, -115.1758223)',\n",
       "       '(37.3854949, -121.99542109999999)',\n",
       "       '(38.8128231, -77.18505479999999)', '(38.8969797, -77.0289132)',\n",
       "       '(38.9054561, -77.0442355)', '(39.8520594, -74.9810994)',\n",
       "       '(40.709374600000004, -74.0099791)', '(40.7185138, -74.0011677)',\n",
       "       '(40.718838500000004, -73.9882797)', '(40.7274006, -73.8124604)',\n",
       "       '(40.7291264, -73.99326429999999)', '(40.7505058, -73.990583)',\n",
       "       '(40.750831, -73.98909609999998)', '(40.7525294, -73.9928762)',\n",
       "       '(40.759057299999995, -111.8973832)', '(40.7719101, -74.1614754)',\n",
       "       '(40.9220806, -75.3999187)', '(41.8796564, -87.77791309999999)',\n",
       "       '(44.981409899999996, -73.4598199)'], dtype=object)"
      ]
     },
     "execution_count": 16,
     "metadata": {},
     "output_type": "execute_result"
    }
   ],
   "source": [
    "all_coords = df['coord'].values\n",
    "\n",
    "all_coords"
   ]
  },
  {
   "cell_type": "code",
   "execution_count": 17,
   "id": "3f7f7b6f-190a-4351-9904-ab23b0404d6e",
   "metadata": {
    "tags": []
   },
   "outputs": [],
   "source": [
    "df.loc[df['coord'] == '(37.3854949, -121.99542109999999)', 'coord'] = str((37.3854949, -121.9954211))"
   ]
  },
  {
   "cell_type": "code",
   "execution_count": 18,
   "id": "c949feb3-8a32-4410-ae30-3d718b32a7e8",
   "metadata": {
    "tags": []
   },
   "outputs": [
    {
     "data": {
      "text/plain": [
       "True"
      ]
     },
     "execution_count": 18,
     "metadata": {},
     "output_type": "execute_result"
    }
   ],
   "source": [
    "'(37.3854949, -121.9954211)' in df['coord'].values"
   ]
  },
  {
   "cell_type": "code",
   "execution_count": 19,
   "id": "6ade085b-832f-4d6b-a19e-f60f467473f0",
   "metadata": {
    "tags": []
   },
   "outputs": [
    {
     "data": {
      "text/html": [
       "<div>\n",
       "<style scoped>\n",
       "    .dataframe tbody tr th:only-of-type {\n",
       "        vertical-align: middle;\n",
       "    }\n",
       "\n",
       "    .dataframe tbody tr th {\n",
       "        vertical-align: top;\n",
       "    }\n",
       "\n",
       "    .dataframe thead th {\n",
       "        text-align: right;\n",
       "    }\n",
       "</style>\n",
       "<table border=\"1\" class=\"dataframe\">\n",
       "  <thead>\n",
       "    <tr style=\"text-align: right;\">\n",
       "      <th></th>\n",
       "      <th>subway20</th>\n",
       "      <th>Topic_26</th>\n",
       "      <th>rating_count</th>\n",
       "      <th>Topic_19</th>\n",
       "      <th>compound_score</th>\n",
       "      <th>coord</th>\n",
       "      <th>rating</th>\n",
       "    </tr>\n",
       "  </thead>\n",
       "  <tbody>\n",
       "    <tr>\n",
       "      <th>0</th>\n",
       "      <td>109.0</td>\n",
       "      <td>0.029128</td>\n",
       "      <td>4922.000000</td>\n",
       "      <td>0.028140</td>\n",
       "      <td>-0.190472</td>\n",
       "      <td>(25.790295, -80.132077)</td>\n",
       "      <td>1.971930</td>\n",
       "    </tr>\n",
       "    <tr>\n",
       "      <th>1</th>\n",
       "      <td>153.0</td>\n",
       "      <td>0.035417</td>\n",
       "      <td>2809.452229</td>\n",
       "      <td>0.050982</td>\n",
       "      <td>-0.018911</td>\n",
       "      <td>(25.81, -80.189098)</td>\n",
       "      <td>2.557962</td>\n",
       "    </tr>\n",
       "    <tr>\n",
       "      <th>2</th>\n",
       "      <td>46.0</td>\n",
       "      <td>0.029296</td>\n",
       "      <td>5566.552326</td>\n",
       "      <td>0.046009</td>\n",
       "      <td>0.119611</td>\n",
       "      <td>(28.333508, -81.513738)</td>\n",
       "      <td>2.810465</td>\n",
       "    </tr>\n",
       "    <tr>\n",
       "      <th>3</th>\n",
       "      <td>64.0</td>\n",
       "      <td>0.025727</td>\n",
       "      <td>1861.000000</td>\n",
       "      <td>0.044964</td>\n",
       "      <td>0.146034</td>\n",
       "      <td>(28.399986, -81.405103)</td>\n",
       "      <td>3.164789</td>\n",
       "    </tr>\n",
       "    <tr>\n",
       "      <th>4</th>\n",
       "      <td>67.0</td>\n",
       "      <td>0.031973</td>\n",
       "      <td>5467.206349</td>\n",
       "      <td>0.036977</td>\n",
       "      <td>0.065329</td>\n",
       "      <td>(28.423814, -81.461242)</td>\n",
       "      <td>2.579894</td>\n",
       "    </tr>\n",
       "  </tbody>\n",
       "</table>\n",
       "</div>"
      ],
      "text/plain": [
       "   subway20  Topic_26  rating_count  Topic_19  compound_score  \\\n",
       "0     109.0  0.029128   4922.000000  0.028140       -0.190472   \n",
       "1     153.0  0.035417   2809.452229  0.050982       -0.018911   \n",
       "2      46.0  0.029296   5566.552326  0.046009        0.119611   \n",
       "3      64.0  0.025727   1861.000000  0.044964        0.146034   \n",
       "4      67.0  0.031973   5467.206349  0.036977        0.065329   \n",
       "\n",
       "                     coord    rating  \n",
       "0  (25.790295, -80.132077)  1.971930  \n",
       "1      (25.81, -80.189098)  2.557962  \n",
       "2  (28.333508, -81.513738)  2.810465  \n",
       "3  (28.399986, -81.405103)  3.164789  \n",
       "4  (28.423814, -81.461242)  2.579894  "
      ]
     },
     "execution_count": 19,
     "metadata": {},
     "output_type": "execute_result"
    }
   ],
   "source": [
    "def round_coordinates(coord_str):\n",
    "    coord_tuple = eval(coord_str)\n",
    "    return str((round(coord_tuple[0], 6), round(coord_tuple[1], 6)))\n",
    "df['coord'] = df['coord'].apply(round_coordinates)\n",
    "\n",
    "df.head()"
   ]
  },
  {
   "cell_type": "code",
   "execution_count": null,
   "id": "e3f231c7-7dab-4611-b679-5694aecf2ba0",
   "metadata": {},
   "outputs": [],
   "source": [
    "df.to_csv('../assets/updated_websiteDF.csv', index=False)"
   ]
  },
  {
   "cell_type": "code",
   "execution_count": null,
   "id": "d3cb8592-d718-40ee-ba65-0331be46ab4d",
   "metadata": {},
   "outputs": [],
   "source": []
  }
 ],
 "metadata": {
  "kernelspec": {
   "display_name": "Python 3 (ipykernel)",
   "language": "python",
   "name": "python3"
  },
  "language_info": {
   "codemirror_mode": {
    "name": "ipython",
    "version": 3
   },
   "file_extension": ".py",
   "mimetype": "text/x-python",
   "name": "python",
   "nbconvert_exporter": "python",
   "pygments_lexer": "ipython3",
   "version": "3.11.4"
  }
 },
 "nbformat": 4,
 "nbformat_minor": 5
}
