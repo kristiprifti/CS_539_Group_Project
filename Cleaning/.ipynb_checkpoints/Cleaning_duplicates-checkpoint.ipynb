{
 "cells": [
  {
   "cell_type": "code",
   "execution_count": 103,
   "id": "f435cece-57c3-4bae-a56f-7a4dac98fcb7",
   "metadata": {
    "tags": []
   },
   "outputs": [],
   "source": [
    "import pandas as pd\n",
    "import numpy as np\n",
    "from sklearn.neighbors import BallTree\n",
    "df_reviews = pd.read_csv('../assets/McDonald_s_Reviews.csv', encoding='ISO-8859-1')\n",
    "df = pd.read_csv('../assets/lat_lon.csv')"
   ]
  },
  {
   "cell_type": "code",
   "execution_count": 104,
   "id": "ae82246e-f00f-488c-bab5-e8f14b613dd6",
   "metadata": {
    "tags": []
   },
   "outputs": [],
   "source": [
    "df['latitude'] = df['latitude'].astype(float)\n",
    "df['longitude'] = df['longitude'].astype(float)\n",
    "df_reviews['latitude'] = df_reviews['latitude'].astype(float)\n",
    "df_reviews['longitude'] = df_reviews['longitude'].astype(float)"
   ]
  },
  {
   "cell_type": "code",
   "execution_count": 105,
   "id": "4e95e0b6-2029-4596-8c54-61f98ee9e913",
   "metadata": {
    "tags": []
   },
   "outputs": [],
   "source": [
    "set_lat_lon = set(df.apply(tuple, axis=1))\n",
    "set_reviews = set(df_reviews[['latitude', 'longitude']].apply(tuple, axis=1))"
   ]
  },
  {
   "cell_type": "code",
   "execution_count": 106,
   "id": "34f41afc-257f-41d8-8aa5-998e2f4cf49f",
   "metadata": {
    "tags": []
   },
   "outputs": [],
   "source": [
    "diff_set = set_lat_lon - set_reviews"
   ]
  },
  {
   "cell_type": "code",
   "execution_count": 107,
   "id": "f4112da8-5a6d-472c-aa65-16501cf4119e",
   "metadata": {
    "tags": []
   },
   "outputs": [],
   "source": [
    "df_diff = pd.DataFrame(list(diff_set), columns=['latitude', 'longitude'])"
   ]
  },
  {
   "cell_type": "code",
   "execution_count": 108,
   "id": "a489ff22-f133-4658-a2b2-8be607e603c3",
   "metadata": {
    "tags": []
   },
   "outputs": [],
   "source": [
    "df_reviews_cleaned = df_reviews.dropna(subset=['latitude', 'longitude'])"
   ]
  },
  {
   "cell_type": "code",
   "execution_count": 109,
   "id": "d42c949f-1e56-443e-810e-6e33924bdc4e",
   "metadata": {
    "tags": []
   },
   "outputs": [],
   "source": [
    "df_diff_radians = np.radians(df_diff.values)\n",
    "df_reviews_radians = np.radians(df_reviews_cleaned[['latitude', 'longitude']].values)"
   ]
  },
  {
   "cell_type": "code",
   "execution_count": 110,
   "id": "75410514-f0b9-4107-a075-b7c8bacbc677",
   "metadata": {
    "tags": []
   },
   "outputs": [],
   "source": [
    "tree = BallTree(df_reviews_radians)"
   ]
  },
  {
   "cell_type": "code",
   "execution_count": 111,
   "id": "f3f9c21b-c6a0-49ce-822d-2b0d89bebe92",
   "metadata": {
    "tags": []
   },
   "outputs": [],
   "source": [
    "distances, indices = tree.query_radius(df_diff_radians, r=np.radians(0.01), return_distance=True)"
   ]
  },
  {
   "cell_type": "code",
   "execution_count": 112,
   "id": "5877b45e-3cdc-41bc-ae62-b063833f3972",
   "metadata": {
    "tags": []
   },
   "outputs": [],
   "source": [
    "non_nearby_indices = [i for i, dist in enumerate(distances) if len(dist) == 0]\n"
   ]
  },
  {
   "cell_type": "code",
   "execution_count": 113,
   "id": "da610191-5b09-40e2-9112-595d56384b85",
   "metadata": {
    "tags": []
   },
   "outputs": [],
   "source": [
    "df_final = df_diff.iloc[non_nearby_indices]"
   ]
  },
  {
   "cell_type": "code",
   "execution_count": 114,
   "id": "f3531da4-ab23-4846-8857-4ada2c085164",
   "metadata": {
    "tags": []
   },
   "outputs": [
    {
     "name": "stdout",
     "output_type": "stream",
     "text": [
      "(14092, 2)\n",
      "    latitude  longitude\n",
      "0  39.045990 -84.244992\n",
      "1  42.298737 -84.023994\n",
      "2  46.851607 -96.862735\n",
      "3  36.579128 -82.567509\n",
      "4  42.379974 -88.064791\n"
     ]
    }
   ],
   "source": [
    "print(df_final.shape)\n",
    "print(df_final.head())"
   ]
  },
  {
   "cell_type": "code",
   "execution_count": 115,
   "id": "f50fe958-9e31-4d50-829f-f5fc75eb31a4",
   "metadata": {
    "tags": []
   },
   "outputs": [],
   "source": [
    "df_final.insert(0, \"store_address\", \"Another McDonald's Location\")"
   ]
  },
  {
   "cell_type": "code",
   "execution_count": 116,
   "id": "995ddeac-80de-466a-b92b-4d7e13662e30",
   "metadata": {
    "tags": []
   },
   "outputs": [
    {
     "name": "stdout",
     "output_type": "stream",
     "text": [
      "(14092, 3)\n",
      "                 store_address   latitude  longitude\n",
      "0  Another McDonald's Location  39.045990 -84.244992\n",
      "1  Another McDonald's Location  42.298737 -84.023994\n",
      "2  Another McDonald's Location  46.851607 -96.862735\n",
      "3  Another McDonald's Location  36.579128 -82.567509\n",
      "4  Another McDonald's Location  42.379974 -88.064791\n"
     ]
    }
   ],
   "source": [
    "print(df_final.shape)\n",
    "print(df_final.head())"
   ]
  },
  {
   "cell_type": "code",
   "execution_count": 117,
   "id": "6599d01e-fefc-4e45-b677-781aeb8fa62f",
   "metadata": {
    "tags": []
   },
   "outputs": [],
   "source": [
    "df_final.to_csv('assets/final_unique_locations.csv', index=False)"
   ]
  },
  {
   "cell_type": "code",
   "execution_count": 118,
   "id": "d6316ffb-d8fe-46fa-87c3-d6d6d2e93b97",
   "metadata": {
    "tags": []
   },
   "outputs": [
    {
     "name": "stderr",
     "output_type": "stream",
     "text": [
      "/var/folders/00/jwxcjhwj65335rt2sgy48x680000gn/T/ipykernel_81032/1988310515.py:1: SettingWithCopyWarning: \n",
      "A value is trying to be set on a copy of a slice from a DataFrame.\n",
      "Try using .loc[row_indexer,col_indexer] = value instead\n",
      "\n",
      "See the caveats in the documentation: https://pandas.pydata.org/pandas-docs/stable/user_guide/indexing.html#returning-a-view-versus-a-copy\n",
      "  df_reviews_cleaned['store_address'] = \"McDonald's \" + df_reviews_cleaned['store_address']\n"
     ]
    }
   ],
   "source": [
    "df_reviews_cleaned['store_address'] = \"McDonald's \" + df_reviews_cleaned['store_address']"
   ]
  },
  {
   "cell_type": "code",
   "execution_count": 119,
   "id": "7b95dd2d-4c8e-4d21-ab44-8df72c1a20ac",
   "metadata": {
    "tags": []
   },
   "outputs": [],
   "source": [
    "df_reviews_cleaned.to_csv('assets/cleaned_reviews.csv', index=False)"
   ]
  },
  {
   "cell_type": "markdown",
   "id": "bc0acdd9-45eb-42dd-984b-92c05fa57104",
   "metadata": {},
   "source": [
    "SubWay"
   ]
  },
  {
   "cell_type": "code",
   "execution_count": 120,
   "id": "df91da08-d5fe-4efa-9b2b-f3ac29d8bb14",
   "metadata": {
    "tags": []
   },
   "outputs": [],
   "source": [
    "data = pd.read_csv('assets/subway.csv')"
   ]
  },
  {
   "cell_type": "code",
   "execution_count": 121,
   "id": "636cdfb2-acff-445b-bb27-9106fee59af3",
   "metadata": {
    "tags": []
   },
   "outputs": [],
   "source": [
    "data = data[['street_address','latitude', 'longitude']]"
   ]
  },
  {
   "cell_type": "code",
   "execution_count": 122,
   "id": "55cdde54-6182-4316-aff6-0c070ce117fb",
   "metadata": {
    "tags": []
   },
   "outputs": [],
   "source": [
    "data = data.rename(columns={\"street_address\": \"store_address\"})"
   ]
  },
  {
   "cell_type": "code",
   "execution_count": 123,
   "id": "46302250-b684-452f-bf5c-e4e0278f433d",
   "metadata": {
    "tags": []
   },
   "outputs": [],
   "source": [
    "data['store_address'] = \"Subway at \" + data['store_address']"
   ]
  },
  {
   "cell_type": "code",
   "execution_count": 124,
   "id": "c7388a31-de93-4327-ae5c-22aa22723f67",
   "metadata": {
    "tags": []
   },
   "outputs": [
    {
     "data": {
      "text/html": [
       "<div>\n",
       "<style scoped>\n",
       "    .dataframe tbody tr th:only-of-type {\n",
       "        vertical-align: middle;\n",
       "    }\n",
       "\n",
       "    .dataframe tbody tr th {\n",
       "        vertical-align: top;\n",
       "    }\n",
       "\n",
       "    .dataframe thead th {\n",
       "        text-align: right;\n",
       "    }\n",
       "</style>\n",
       "<table border=\"1\" class=\"dataframe\">\n",
       "  <thead>\n",
       "    <tr style=\"text-align: right;\">\n",
       "      <th></th>\n",
       "      <th>store_address</th>\n",
       "      <th>latitude</th>\n",
       "      <th>longitude</th>\n",
       "    </tr>\n",
       "  </thead>\n",
       "  <tbody>\n",
       "    <tr>\n",
       "      <th>0</th>\n",
       "      <td>Subway at 1800 Duke St, Ste 100</td>\n",
       "      <td>38.8043</td>\n",
       "      <td>-77.0611</td>\n",
       "    </tr>\n",
       "    <tr>\n",
       "      <th>1</th>\n",
       "      <td>Subway at 1512 King St,</td>\n",
       "      <td>38.8062</td>\n",
       "      <td>-77.0565</td>\n",
       "    </tr>\n",
       "    <tr>\n",
       "      <th>2</th>\n",
       "      <td>Subway at 2361 Eisenhower Ave,</td>\n",
       "      <td>38.8012</td>\n",
       "      <td>-77.0691</td>\n",
       "    </tr>\n",
       "    <tr>\n",
       "      <th>3</th>\n",
       "      <td>Subway at 320 King Street, 1st Floor</td>\n",
       "      <td>38.8045</td>\n",
       "      <td>-77.0433</td>\n",
       "    </tr>\n",
       "    <tr>\n",
       "      <th>4</th>\n",
       "      <td>Subway at 5836 N. Kings Hwy, Suite A, Huntingt...</td>\n",
       "      <td>38.7903</td>\n",
       "      <td>-77.0769</td>\n",
       "    </tr>\n",
       "  </tbody>\n",
       "</table>\n",
       "</div>"
      ],
      "text/plain": [
       "                                       store_address  latitude  longitude\n",
       "0                    Subway at 1800 Duke St, Ste 100   38.8043   -77.0611\n",
       "1                            Subway at 1512 King St,   38.8062   -77.0565\n",
       "2                     Subway at 2361 Eisenhower Ave,   38.8012   -77.0691\n",
       "3               Subway at 320 King Street, 1st Floor   38.8045   -77.0433\n",
       "4  Subway at 5836 N. Kings Hwy, Suite A, Huntingt...   38.7903   -77.0769"
      ]
     },
     "execution_count": 124,
     "metadata": {},
     "output_type": "execute_result"
    }
   ],
   "source": [
    "data.head()"
   ]
  },
  {
   "cell_type": "code",
   "execution_count": 125,
   "id": "468243b1-039c-48d4-9492-0387e48de725",
   "metadata": {
    "tags": []
   },
   "outputs": [],
   "source": [
    "data = data.dropna(subset=['store_address','latitude', 'longitude'])"
   ]
  },
  {
   "cell_type": "code",
   "execution_count": 126,
   "id": "77af33e6-2385-4719-9679-d2141b502fb9",
   "metadata": {
    "tags": []
   },
   "outputs": [],
   "source": [
    "data.to_csv('assets/subway_cleaned.csv', index=False)"
   ]
  },
  {
   "cell_type": "code",
   "execution_count": null,
   "id": "aee19af2-20b4-4bb6-84d2-aac631ade85f",
   "metadata": {},
   "outputs": [],
   "source": []
  }
 ],
 "metadata": {
  "kernelspec": {
   "display_name": "Python 3 (ipykernel)",
   "language": "python",
   "name": "python3"
  },
  "language_info": {
   "codemirror_mode": {
    "name": "ipython",
    "version": 3
   },
   "file_extension": ".py",
   "mimetype": "text/x-python",
   "name": "python",
   "nbconvert_exporter": "python",
   "pygments_lexer": "ipython3",
   "version": "3.11.4"
  }
 },
 "nbformat": 4,
 "nbformat_minor": 5
}
